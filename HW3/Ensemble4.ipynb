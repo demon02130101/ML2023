{
 "cells": [
  {
   "cell_type": "code",
   "execution_count": 7,
   "id": "bd49e809-fea1-4d3a-aece-04a252a13cec",
   "metadata": {},
   "outputs": [],
   "source": [
    "import pandas as pd"
   ]
  },
  {
   "cell_type": "code",
   "execution_count": 8,
   "id": "ab76b4e1-3863-4a4a-89fd-7ba864bb341a",
   "metadata": {},
   "outputs": [],
   "source": [
    "file_name = 'Ensemble4'\n",
    "model = ['model4',\n",
    "         'Ensemble2',\n",
    "         'Ensemble3']"
   ]
  },
  {
   "cell_type": "code",
   "execution_count": 9,
   "id": "a32c5f9b-9292-458e-afaa-aa44d311a763",
   "metadata": {
    "scrolled": true
   },
   "outputs": [],
   "source": [
    "df = []\n",
    "for i in range(len(model)):\n",
    "    df_temp = pd.read_csv(f'{model[i]}.csv', index_col=0)\n",
    "    df.append(df_temp)"
   ]
  },
  {
   "cell_type": "code",
   "execution_count": 10,
   "id": "3e6c9db0-a597-45da-a2eb-e05cc5aca279",
   "metadata": {},
   "outputs": [],
   "source": [
    "df_combine = pd.concat(df,axis=1, )\n",
    "df_combine = df_combine.mode(axis=1).dropna(axis=1)"
   ]
  },
  {
   "cell_type": "code",
   "execution_count": 11,
   "id": "4efd5c24-8ad8-4193-bff2-df62b86d5ae7",
   "metadata": {
    "scrolled": true
   },
   "outputs": [
    {
     "data": {
      "text/html": [
       "<div>\n",
       "<style scoped>\n",
       "    .dataframe tbody tr th:only-of-type {\n",
       "        vertical-align: middle;\n",
       "    }\n",
       "\n",
       "    .dataframe tbody tr th {\n",
       "        vertical-align: top;\n",
       "    }\n",
       "\n",
       "    .dataframe thead th {\n",
       "        text-align: right;\n",
       "    }\n",
       "</style>\n",
       "<table border=\"1\" class=\"dataframe\">\n",
       "  <thead>\n",
       "    <tr style=\"text-align: right;\">\n",
       "      <th></th>\n",
       "      <th>Category</th>\n",
       "    </tr>\n",
       "    <tr>\n",
       "      <th>Id</th>\n",
       "      <th></th>\n",
       "    </tr>\n",
       "  </thead>\n",
       "  <tbody>\n",
       "    <tr>\n",
       "      <th>0</th>\n",
       "      <td>5</td>\n",
       "    </tr>\n",
       "    <tr>\n",
       "      <th>1</th>\n",
       "      <td>1</td>\n",
       "    </tr>\n",
       "    <tr>\n",
       "      <th>2</th>\n",
       "      <td>0</td>\n",
       "    </tr>\n",
       "    <tr>\n",
       "      <th>3</th>\n",
       "      <td>3</td>\n",
       "    </tr>\n",
       "    <tr>\n",
       "      <th>4</th>\n",
       "      <td>9</td>\n",
       "    </tr>\n",
       "    <tr>\n",
       "      <th>...</th>\n",
       "      <td>...</td>\n",
       "    </tr>\n",
       "    <tr>\n",
       "      <th>2995</th>\n",
       "      <td>1</td>\n",
       "    </tr>\n",
       "    <tr>\n",
       "      <th>2996</th>\n",
       "      <td>3</td>\n",
       "    </tr>\n",
       "    <tr>\n",
       "      <th>2997</th>\n",
       "      <td>0</td>\n",
       "    </tr>\n",
       "    <tr>\n",
       "      <th>2998</th>\n",
       "      <td>6</td>\n",
       "    </tr>\n",
       "    <tr>\n",
       "      <th>2999</th>\n",
       "      <td>8</td>\n",
       "    </tr>\n",
       "  </tbody>\n",
       "</table>\n",
       "<p>3000 rows × 1 columns</p>\n",
       "</div>"
      ],
      "text/plain": [
       "      Category\n",
       "Id            \n",
       "0            5\n",
       "1            1\n",
       "2            0\n",
       "3            3\n",
       "4            9\n",
       "...        ...\n",
       "2995         1\n",
       "2996         3\n",
       "2997         0\n",
       "2998         6\n",
       "2999         8\n",
       "\n",
       "[3000 rows x 1 columns]"
      ]
     },
     "execution_count": 11,
     "metadata": {},
     "output_type": "execute_result"
    }
   ],
   "source": [
    "df_combine = df_combine.astype('int32')\n",
    "df_combine.columns = ['Category']\n",
    "df_combine"
   ]
  },
  {
   "cell_type": "code",
   "execution_count": 12,
   "id": "84990fa6-2450-4e8d-b78e-a543e4f15e21",
   "metadata": {},
   "outputs": [],
   "source": [
    "df_combine.to_csv(f'{file_name}.csv',index=True)"
   ]
  },
  {
   "cell_type": "code",
   "execution_count": null,
   "id": "5abebf59-c96f-479a-8d61-4f79af4eaa83",
   "metadata": {},
   "outputs": [],
   "source": []
  }
 ],
 "metadata": {
  "kernelspec": {
   "display_name": "Python 3 (ipykernel)",
   "language": "python",
   "name": "python3"
  },
  "language_info": {
   "codemirror_mode": {
    "name": "ipython",
    "version": 3
   },
   "file_extension": ".py",
   "mimetype": "text/x-python",
   "name": "python",
   "nbconvert_exporter": "python",
   "pygments_lexer": "ipython3",
   "version": "3.9.18"
  }
 },
 "nbformat": 4,
 "nbformat_minor": 5
}
